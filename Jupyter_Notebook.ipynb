{
  "metadata": {
    "kernelspec": {
      "name": "python",
      "display_name": "Pyolite",
      "language": "python"
    },
    "language_info": {
      "codemirror_mode": {
        "name": "python",
        "version": 3
      },
      "file_extension": ".py",
      "mimetype": "text/x-python",
      "name": "python",
      "nbconvert_exporter": "python",
      "pygments_lexer": "ipython3",
      "version": "3.8"
    }
  },
  "nbformat_minor": 4,
  "nbformat": 4,
  "cells": [
    {
      "cell_type": "markdown",
      "source": "<center>\n    <img src=\"https://s3-api.us-geo.objectstorage.softlayer.net/cf-courses-data/CognitiveClass/Logos/organization_logo/organization_logo.png\" width=\"300\" alt=\"cognitiveclass.ai logo\"  />\n</center>\n",
      "metadata": {}
    },
    {
      "cell_type": "markdown",
      "source": "#### Add your code below following the instructions given in the course\n",
      "metadata": {}
    },
    {
      "cell_type": "markdown",
      "source": "# My Jupyter Notebook on IBM Watson Studio",
      "metadata": {}
    },
    {
      "cell_type": "markdown",
      "source": "<b> SHAHZADA UMAR ABBAS BABAR </b>\nCurrent Occupation: Police Officer",
      "metadata": {}
    },
    {
      "cell_type": "markdown",
      "source": "<i> I am interested in Data Science because as a Police Officer, my organization generates a lot of data that needs to be analyzed for timely and accurate decisions. </i>",
      "metadata": {}
    },
    {
      "cell_type": "markdown",
      "source": "### The Code in Cell 5 will add 2 & 3 and print the result\n",
      "metadata": {}
    },
    {
      "cell_type": "code",
      "source": "print(2+3)",
      "metadata": {
        "trusted": true
      },
      "execution_count": 2,
      "outputs": [
        {
          "name": "stdout",
          "text": "5\n",
          "output_type": "stream"
        }
      ]
    },
    {
      "cell_type": "markdown",
      "source": "Bulleted List:\n - Line 1 of Bullet Example\n - Line 2 of Bullet Example\n - Line 3 of Bullet Example\n \n\n   \n\nstrikedown example\n~strikedown sentence example~\n\nHyperlink:\n\nhttps://www.google.com/\n\ntable:\n\n| Column1 | Column2 | Column3 |\n| :- | -: | :-: |\n| My Example | IBM Data Science Course  | .99",
      "metadata": {}
    },
    {
      "cell_type": "code",
      "source": "",
      "metadata": {},
      "execution_count": null,
      "outputs": []
    }
  ]
}